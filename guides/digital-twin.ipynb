{
 "cells": [
  {
   "cell_type": "markdown",
   "metadata": {},
   "source": [
    "# Running an airspace simulation"
   ]
  },
  {
   "cell_type": "markdown",
   "metadata": {},
   "source": [
    "This notebook is intended to run through uploading an \"I\"-shaped sector into a simulation and the basics of interacting with `BlueSky` via `pydodo`.\n",
    "For a full overview of the `pydodo` commands, please see the [pydodo specification document](https://github.com/project-bluebird/dodo/blob/master/Specification.md).\n",
    "\n",
    "## Contents\n",
    "\n",
    "* [1. Getting started](#first-section)\n",
    "* [2. Load sector and scenario](#second-section)\n",
    "* [3. Example usage](#third-section)\n",
    "* [4. Example OpenAI interface](#fourth-section)\n",
    "* [5. Shut down the simulator](#fifth-section)"
   ]
  },
  {
   "cell_type": "markdown",
   "metadata": {},
   "source": [
    "## 1. Getting started <a class=\"anchor\" id=\"first-section\"></a>"
   ]
  },
  {
   "cell_type": "markdown",
   "metadata": {},
   "source": [
    "### 1.1 Launch simulator (`BlueSky`) and the `BlueBird` interface layer\n",
    "\n",
    "If you have not already started the BlueSky simulator and BlueBird, you can launch them using either docker, by navigating to the [Simurgh](https://github.com/alan-turing-institute/simurgh.git) repository that contains the docker container and running..."
   ]
  },
  {
   "cell_type": "code",
   "execution_count": 1,
   "metadata": {},
   "outputs": [
    {
     "name": "stdout",
     "output_type": "stream",
     "text": [
      "Creating network \"guides_default\" with the default driver\n",
      "Creating bluesky ... \n",
      "\u001b[1BCreating bluebird ... done\u001b[0m\n",
      "\u001b[1BCreating twitcher ... mdone\u001b[0m\n",
      "\u001b[1Bting twitcher ... \u001b[32mdone\u001b[0m"
     ]
    }
   ],
   "source": [
    "!docker-compose --file docker-compose.yml up --detach"
   ]
  },
  {
   "cell_type": "markdown",
   "metadata": {},
   "source": [
    "or via the command line as outlined in the installation instructions page"
   ]
  },
  {
   "cell_type": "markdown",
   "metadata": {},
   "source": [
    "### 1.2 Import pydodo\n",
    "Pydodo will be used to communicate with the simulator"
   ]
  },
  {
   "cell_type": "code",
   "execution_count": 2,
   "metadata": {},
   "outputs": [],
   "source": [
    "import pydodo"
   ]
  },
  {
   "cell_type": "markdown",
   "metadata": {},
   "source": [
    "To check pydodo is comminicating with BlueBird:"
   ]
  },
  {
   "cell_type": "code",
   "execution_count": 3,
   "metadata": {},
   "outputs": [
    {
     "name": "stdout",
     "output_type": "stream",
     "text": [
      "http://localhost:5001/api/v2\n"
     ]
    }
   ],
   "source": [
    "print(pydodo.bluebird_connect.get_bluebird_url())"
   ]
  },
  {
   "cell_type": "markdown",
   "metadata": {},
   "source": [
    "If this is not correct (e.g., BlueBird is in fact being run on a different host), then we can change the url by using the `pydodo.bluebird_config` function:\n",
    "For help on pydodo type"
   ]
  },
  {
   "cell_type": "code",
   "execution_count": 4,
   "metadata": {},
   "outputs": [
    {
     "name": "stdout",
     "output_type": "stream",
     "text": [
      "Help on function bluebird_config in module pydodo.bluebird_connect:\n",
      "\n",
      "bluebird_config(host='localhost', port='5001', version='v2')\n",
      "    Set BlueBird host, port and version parameters.\n",
      "    Default values are taken from the config file.\n",
      "    \n",
      "    Parameters\n",
      "    ----------\n",
      "    host : str\n",
      "        BlueBird host (e.g., 'localhost' or '0.0.0.0').\n",
      "    port : int\n",
      "        BlueBird port (e.g., 5001).\n",
      "    version : str\n",
      "        BlueBird version (e.g., 'v1' or 'v2')\n",
      "\n"
     ]
    }
   ],
   "source": [
    "help(pydodo.bluebird_config)"
   ]
  },
  {
   "cell_type": "markdown",
   "metadata": {},
   "source": [
    "At the moment there is no scenario or sector information loaded, however we can confirm that pydodo is able to report on the type, speed, position, headings and a range of other aircraft parameters by typing"
   ]
  },
  {
   "cell_type": "code",
   "execution_count": 5,
   "metadata": {},
   "outputs": [
    {
     "data": {
      "text/html": [
       "<div>\n",
       "<style scoped>\n",
       "    .dataframe tbody tr th:only-of-type {\n",
       "        vertical-align: middle;\n",
       "    }\n",
       "\n",
       "    .dataframe tbody tr th {\n",
       "        vertical-align: top;\n",
       "    }\n",
       "\n",
       "    .dataframe thead th {\n",
       "        text-align: right;\n",
       "    }\n",
       "</style>\n",
       "<table border=\"1\" class=\"dataframe\">\n",
       "  <thead>\n",
       "    <tr style=\"text-align: right;\">\n",
       "      <th></th>\n",
       "      <th>aircraft_type</th>\n",
       "      <th>ground_speed</th>\n",
       "      <th>latitude</th>\n",
       "      <th>longitude</th>\n",
       "      <th>vertical_speed</th>\n",
       "      <th>heading</th>\n",
       "      <th>current_flight_level</th>\n",
       "      <th>requested_flight_level</th>\n",
       "      <th>cleared_flight_level</th>\n",
       "    </tr>\n",
       "  </thead>\n",
       "  <tbody>\n",
       "  </tbody>\n",
       "</table>\n",
       "</div>"
      ],
      "text/plain": [
       "Empty DataFrame\n",
       "Columns: [aircraft_type, ground_speed, latitude, longitude, vertical_speed, heading, current_flight_level, requested_flight_level, cleared_flight_level]\n",
       "Index: []"
      ]
     },
     "execution_count": 5,
     "metadata": {},
     "output_type": "execute_result"
    }
   ],
   "source": [
    "pydodo.all_positions()"
   ]
  },
  {
   "cell_type": "markdown",
   "metadata": {},
   "source": [
    "## 2. Load sector and scenario <a class=\"anchor\" id=\"second-section\"></a>"
   ]
  },
  {
   "cell_type": "markdown",
   "metadata": {},
   "source": [
    "### 2.1 Overview\n",
    "\n",
    "To start, we need to upload a **sector** and a **scenario** (in that order). \n",
    "\n",
    "A sector defines the area the ATCO is controling. The scenario defines the episode: that is a sequence of aircraft whose route passes through the sector.\n",
    "\n",
    "You can use the [Aviary](https://github.com/alan-turing-institute/aviary/tree/develop) package to create sector and scenario files (see the README for more information and file formats).\n",
    "\n",
    "We can check whether a sector or a scenario has been defined already (see whether `sector_name` and `scenario_name` below are not `None`):"
   ]
  },
  {
   "cell_type": "code",
   "execution_count": 6,
   "metadata": {},
   "outputs": [
    {
     "data": {
      "text/plain": [
       "{'dt': 0.05,\n",
       " 'mode': 'Agent',\n",
       " 'scenario_name': None,\n",
       " 'scenario_time': 0.0,\n",
       " 'sector_name': None,\n",
       " 'seed': None,\n",
       " 'sim_type': 'BlueSky',\n",
       " 'speed': 1.0,\n",
       " 'state': 'INIT',\n",
       " 'utc_datetime': '2021-09-01 00:00:00',\n",
       " 'aircraft_ids': []}"
      ]
     },
     "execution_count": 6,
     "metadata": {},
     "output_type": "execute_result"
    }
   ],
   "source": [
    "pydodo.simulation_info()"
   ]
  },
  {
   "cell_type": "markdown",
   "metadata": {},
   "source": [
    "Nothing has been loaded yet"
   ]
  },
  {
   "cell_type": "markdown",
   "metadata": {},
   "source": [
    "### 2.2 Load sector and scenario into BlueSky using BlueBird"
   ]
  },
  {
   "cell_type": "code",
   "execution_count": 7,
   "metadata": {},
   "outputs": [
    {
     "data": {
      "text/plain": [
       "True"
      ]
     },
     "execution_count": 7,
     "metadata": {},
     "output_type": "execute_result"
    }
   ],
   "source": [
    "pydodo.upload_sector('I-sector.geojson', 'I_sector')"
   ]
  },
  {
   "cell_type": "code",
   "execution_count": 8,
   "metadata": {},
   "outputs": [
    {
     "data": {
      "text/plain": [
       "True"
      ]
     },
     "execution_count": 8,
     "metadata": {},
     "output_type": "execute_result"
    }
   ],
   "source": [
    "pydodo.upload_scenario('test-scenario.json', 'test_scenario')"
   ]
  },
  {
   "cell_type": "markdown",
   "metadata": {},
   "source": [
    "We can check that the sector and scenario have been read into the simulation via:"
   ]
  },
  {
   "cell_type": "code",
   "execution_count": 9,
   "metadata": {},
   "outputs": [
    {
     "data": {
      "text/plain": [
       "{'dt': 0.05,\n",
       " 'mode': 'Agent',\n",
       " 'scenario_name': 'test_scenario',\n",
       " 'scenario_time': 1.2,\n",
       " 'sector_name': 'I_sector',\n",
       " 'seed': None,\n",
       " 'sim_type': 'BlueSky',\n",
       " 'speed': 1,\n",
       " 'state': 'RUN',\n",
       " 'utc_datetime': '2021-09-01 00:00:01',\n",
       " 'aircraft_ids': ['VJ159', 'VJ405']}"
      ]
     },
     "execution_count": 9,
     "metadata": {},
     "output_type": "execute_result"
    }
   ],
   "source": [
    "pydodo.simulation_info()"
   ]
  },
  {
   "cell_type": "code",
   "execution_count": 10,
   "metadata": {},
   "outputs": [
    {
     "data": {
      "text/html": [
       "<div>\n",
       "<style scoped>\n",
       "    .dataframe tbody tr th:only-of-type {\n",
       "        vertical-align: middle;\n",
       "    }\n",
       "\n",
       "    .dataframe tbody tr th {\n",
       "        vertical-align: top;\n",
       "    }\n",
       "\n",
       "    .dataframe thead th {\n",
       "        text-align: right;\n",
       "    }\n",
       "</style>\n",
       "<table border=\"1\" class=\"dataframe\">\n",
       "  <thead>\n",
       "    <tr style=\"text-align: right;\">\n",
       "      <th></th>\n",
       "      <th>aircraft_type</th>\n",
       "      <th>cleared_flight_level</th>\n",
       "      <th>current_flight_level</th>\n",
       "      <th>ground_speed</th>\n",
       "      <th>heading</th>\n",
       "      <th>latitude</th>\n",
       "      <th>longitude</th>\n",
       "      <th>requested_flight_level</th>\n",
       "      <th>vertical_speed</th>\n",
       "    </tr>\n",
       "  </thead>\n",
       "  <tbody>\n",
       "    <tr>\n",
       "      <th>VJ159</th>\n",
       "      <td>A346</td>\n",
       "      <td>400</td>\n",
       "      <td>39996.25</td>\n",
       "      <td>198</td>\n",
       "      <td>0</td>\n",
       "      <td>49.393529</td>\n",
       "      <td>-0.1275</td>\n",
       "      <td>400</td>\n",
       "      <td>-360</td>\n",
       "    </tr>\n",
       "    <tr>\n",
       "      <th>VJ405</th>\n",
       "      <td>B77W</td>\n",
       "      <td>200</td>\n",
       "      <td>20000.00</td>\n",
       "      <td>139</td>\n",
       "      <td>180</td>\n",
       "      <td>53.573276</td>\n",
       "      <td>-0.1275</td>\n",
       "      <td>400</td>\n",
       "      <td>0</td>\n",
       "    </tr>\n",
       "  </tbody>\n",
       "</table>\n",
       "</div>"
      ],
      "text/plain": [
       "      aircraft_type  cleared_flight_level  current_flight_level  ground_speed  \\\n",
       "VJ159          A346                   400              39996.25           198   \n",
       "VJ405          B77W                   200              20000.00           139   \n",
       "\n",
       "       heading   latitude  longitude  requested_flight_level  vertical_speed  \n",
       "VJ159        0  49.393529    -0.1275                     400            -360  \n",
       "VJ405      180  53.573276    -0.1275                     400               0  "
      ]
     },
     "execution_count": 10,
     "metadata": {},
     "output_type": "execute_result"
    }
   ],
   "source": [
    "pydodo.all_positions()"
   ]
  },
  {
   "cell_type": "markdown",
   "metadata": {},
   "source": [
    "## 2.3 Viewing the simulation\n",
    "\n",
    "You can also have a look at the sector and scenario in the simulation through Twitcher by going to http://localhost:8080.\n",
    "\n",
    "If the \"I\" sector was loaded the Twitcher page should look like this. ![I-sector as loaded in Twitcher](../images/twitcher_i_sector_initial.png)"
   ]
  },
  {
   "cell_type": "markdown",
   "metadata": {},
   "source": [
    "## 3. Example usage <a class=\"anchor\" id=\"third-section\"></a>\n",
    "\n",
    "See the Dodo [Specification document](https://github.com/alan-turing-institute/dodo/blob/master/Specification.md) for a detailed overview of the supported commands.\n",
    "\n",
    "Below we show some of them."
   ]
  },
  {
   "cell_type": "markdown",
   "metadata": {},
   "source": [
    "### 3.1 Query aircraft positions, again"
   ]
  },
  {
   "cell_type": "code",
   "execution_count": 11,
   "metadata": {},
   "outputs": [
    {
     "data": {
      "text/html": [
       "<div>\n",
       "<style scoped>\n",
       "    .dataframe tbody tr th:only-of-type {\n",
       "        vertical-align: middle;\n",
       "    }\n",
       "\n",
       "    .dataframe tbody tr th {\n",
       "        vertical-align: top;\n",
       "    }\n",
       "\n",
       "    .dataframe thead th {\n",
       "        text-align: right;\n",
       "    }\n",
       "</style>\n",
       "<table border=\"1\" class=\"dataframe\">\n",
       "  <thead>\n",
       "    <tr style=\"text-align: right;\">\n",
       "      <th></th>\n",
       "      <th>aircraft_type</th>\n",
       "      <th>cleared_flight_level</th>\n",
       "      <th>current_flight_level</th>\n",
       "      <th>ground_speed</th>\n",
       "      <th>heading</th>\n",
       "      <th>latitude</th>\n",
       "      <th>longitude</th>\n",
       "      <th>requested_flight_level</th>\n",
       "      <th>vertical_speed</th>\n",
       "    </tr>\n",
       "  </thead>\n",
       "  <tbody>\n",
       "    <tr>\n",
       "      <th>VJ159</th>\n",
       "      <td>A346</td>\n",
       "      <td>400</td>\n",
       "      <td>39996.25</td>\n",
       "      <td>198</td>\n",
       "      <td>0</td>\n",
       "      <td>49.393529</td>\n",
       "      <td>-0.1275</td>\n",
       "      <td>400</td>\n",
       "      <td>-360</td>\n",
       "    </tr>\n",
       "    <tr>\n",
       "      <th>VJ405</th>\n",
       "      <td>B77W</td>\n",
       "      <td>200</td>\n",
       "      <td>20000.00</td>\n",
       "      <td>139</td>\n",
       "      <td>180</td>\n",
       "      <td>53.573276</td>\n",
       "      <td>-0.1275</td>\n",
       "      <td>400</td>\n",
       "      <td>0</td>\n",
       "    </tr>\n",
       "  </tbody>\n",
       "</table>\n",
       "</div>"
      ],
      "text/plain": [
       "      aircraft_type  cleared_flight_level  current_flight_level  ground_speed  \\\n",
       "VJ159          A346                   400              39996.25           198   \n",
       "VJ405          B77W                   200              20000.00           139   \n",
       "\n",
       "       heading   latitude  longitude  requested_flight_level  vertical_speed  \n",
       "VJ159        0  49.393529    -0.1275                     400            -360  \n",
       "VJ405      180  53.573276    -0.1275                     400               0  "
      ]
     },
     "execution_count": 11,
     "metadata": {},
     "output_type": "execute_result"
    }
   ],
   "source": [
    "pydodo.all_positions()"
   ]
  },
  {
   "cell_type": "markdown",
   "metadata": {},
   "source": [
    "### 3.2 Check aircraft route"
   ]
  },
  {
   "cell_type": "code",
   "execution_count": 12,
   "metadata": {},
   "outputs": [
    {
     "data": {
      "text/plain": [
       "{'next_waypoint': 'FIYRE',\n",
       " 'route_name': 'ASCENSION',\n",
       " 'route_waypoints': ['FIYRE', 'EARTH', 'WATER', 'AIR', 'SPIRT'],\n",
       " 'aircraft_id': 'VJ159'}"
      ]
     },
     "execution_count": 12,
     "metadata": {},
     "output_type": "execute_result"
    }
   ],
   "source": [
    "pydodo.list_route('VJ159')"
   ]
  },
  {
   "cell_type": "code",
   "execution_count": 13,
   "metadata": {},
   "outputs": [
    {
     "data": {
      "text/plain": [
       "{'next_waypoint': 'SPIRT',\n",
       " 'route_name': 'FALLEN',\n",
       " 'route_waypoints': ['SPIRT', 'AIR', 'WATER', 'EARTH', 'FIYRE'],\n",
       " 'aircraft_id': 'VJ405'}"
      ]
     },
     "execution_count": 13,
     "metadata": {},
     "output_type": "execute_result"
    }
   ],
   "source": [
    "pydodo.list_route('VJ405')"
   ]
  },
  {
   "cell_type": "markdown",
   "metadata": {},
   "source": [
    "### 3.3 Step through the simulation\n",
    "\n",
    "By default, the simulation is in a paused state. To advance it, we need to call the `simulation_step` function:"
   ]
  },
  {
   "cell_type": "code",
   "execution_count": 14,
   "metadata": {},
   "outputs": [],
   "source": [
    "for i in range(0,50):\n",
    "    pydodo.simulation_step()"
   ]
  },
  {
   "cell_type": "markdown",
   "metadata": {},
   "source": [
    "This should result in the aircraft positions changing:"
   ]
  },
  {
   "cell_type": "code",
   "execution_count": 15,
   "metadata": {},
   "outputs": [
    {
     "data": {
      "text/html": [
       "<div>\n",
       "<style scoped>\n",
       "    .dataframe tbody tr th:only-of-type {\n",
       "        vertical-align: middle;\n",
       "    }\n",
       "\n",
       "    .dataframe tbody tr th {\n",
       "        vertical-align: top;\n",
       "    }\n",
       "\n",
       "    .dataframe thead th {\n",
       "        text-align: right;\n",
       "    }\n",
       "</style>\n",
       "<table border=\"1\" class=\"dataframe\">\n",
       "  <thead>\n",
       "    <tr style=\"text-align: right;\">\n",
       "      <th></th>\n",
       "      <th>aircraft_type</th>\n",
       "      <th>cleared_flight_level</th>\n",
       "      <th>current_flight_level</th>\n",
       "      <th>ground_speed</th>\n",
       "      <th>heading</th>\n",
       "      <th>latitude</th>\n",
       "      <th>longitude</th>\n",
       "      <th>requested_flight_level</th>\n",
       "      <th>vertical_speed</th>\n",
       "    </tr>\n",
       "  </thead>\n",
       "  <tbody>\n",
       "    <tr>\n",
       "      <th>VJ159</th>\n",
       "      <td>A346</td>\n",
       "      <td>400</td>\n",
       "      <td>38794.5</td>\n",
       "      <td>215</td>\n",
       "      <td>0</td>\n",
       "      <td>49.486888</td>\n",
       "      <td>-0.1275</td>\n",
       "      <td>400</td>\n",
       "      <td>-1500</td>\n",
       "    </tr>\n",
       "    <tr>\n",
       "      <th>VJ405</th>\n",
       "      <td>B77W</td>\n",
       "      <td>200</td>\n",
       "      <td>20000.0</td>\n",
       "      <td>164</td>\n",
       "      <td>180</td>\n",
       "      <td>53.505683</td>\n",
       "      <td>-0.1275</td>\n",
       "      <td>400</td>\n",
       "      <td>0</td>\n",
       "    </tr>\n",
       "  </tbody>\n",
       "</table>\n",
       "</div>"
      ],
      "text/plain": [
       "      aircraft_type  cleared_flight_level  current_flight_level  ground_speed  \\\n",
       "VJ159          A346                   400               38794.5           215   \n",
       "VJ405          B77W                   200               20000.0           164   \n",
       "\n",
       "       heading   latitude  longitude  requested_flight_level  vertical_speed  \n",
       "VJ159        0  49.486888    -0.1275                     400           -1500  \n",
       "VJ405      180  53.505683    -0.1275                     400               0  "
      ]
     },
     "execution_count": 15,
     "metadata": {},
     "output_type": "execute_result"
    }
   ],
   "source": [
    "pydodo.all_positions()"
   ]
  },
  {
   "cell_type": "markdown",
   "metadata": {},
   "source": [
    "### 3.4 Change altitude\n",
    "\n",
    "We can also instruct the aircraft to change their path (e.g., heading or altitude).\n",
    "\n",
    "Below we instruct aircraft VJ405 to start climbing. This is followed by a step through the simulation:"
   ]
  },
  {
   "cell_type": "code",
   "execution_count": 16,
   "metadata": {},
   "outputs": [
    {
     "data": {
      "text/plain": [
       "True"
      ]
     },
     "execution_count": 16,
     "metadata": {},
     "output_type": "execute_result"
    }
   ],
   "source": [
    "pydodo.change_altitude(\"VJ405\", flight_level = 400)"
   ]
  },
  {
   "cell_type": "code",
   "execution_count": 17,
   "metadata": {},
   "outputs": [
    {
     "data": {
      "text/plain": [
       "True"
      ]
     },
     "execution_count": 17,
     "metadata": {},
     "output_type": "execute_result"
    }
   ],
   "source": [
    "pydodo.simulation_step()"
   ]
  },
  {
   "cell_type": "markdown",
   "metadata": {},
   "source": [
    "Checking aircraft positions now, we should see a change in the `current_flight_level` as the aircraft starts climbing: Note also the cleared flight level has increased. There may be some uncertainty in this measurement as to weather the cleared flight level is now reported in feet or as a flight level. It is something that as of Summer 2021 is being looked into"
   ]
  },
  {
   "cell_type": "code",
   "execution_count": 18,
   "metadata": {},
   "outputs": [
    {
     "data": {
      "text/html": [
       "<div>\n",
       "<style scoped>\n",
       "    .dataframe tbody tr th:only-of-type {\n",
       "        vertical-align: middle;\n",
       "    }\n",
       "\n",
       "    .dataframe tbody tr th {\n",
       "        vertical-align: top;\n",
       "    }\n",
       "\n",
       "    .dataframe thead th {\n",
       "        text-align: right;\n",
       "    }\n",
       "</style>\n",
       "<table border=\"1\" class=\"dataframe\">\n",
       "  <thead>\n",
       "    <tr style=\"text-align: right;\">\n",
       "      <th></th>\n",
       "      <th>aircraft_type</th>\n",
       "      <th>cleared_flight_level</th>\n",
       "      <th>current_flight_level</th>\n",
       "      <th>ground_speed</th>\n",
       "      <th>heading</th>\n",
       "      <th>latitude</th>\n",
       "      <th>longitude</th>\n",
       "      <th>requested_flight_level</th>\n",
       "      <th>vertical_speed</th>\n",
       "    </tr>\n",
       "  </thead>\n",
       "  <tbody>\n",
       "    <tr>\n",
       "      <th>VJ405</th>\n",
       "      <td>B77W</td>\n",
       "      <td>40000</td>\n",
       "      <td>20000.0</td>\n",
       "      <td>164</td>\n",
       "      <td>180</td>\n",
       "      <td>53.504201</td>\n",
       "      <td>-0.1275</td>\n",
       "      <td>400</td>\n",
       "      <td>0</td>\n",
       "    </tr>\n",
       "  </tbody>\n",
       "</table>\n",
       "</div>"
      ],
      "text/plain": [
       "      aircraft_type  cleared_flight_level  current_flight_level  ground_speed  \\\n",
       "VJ405          B77W                 40000               20000.0           164   \n",
       "\n",
       "       heading   latitude  longitude  requested_flight_level  vertical_speed  \n",
       "VJ405      180  53.504201    -0.1275                     400               0  "
      ]
     },
     "execution_count": 18,
     "metadata": {},
     "output_type": "execute_result"
    }
   ],
   "source": [
    "pydodo.aircraft_position(\"VJ405\")"
   ]
  },
  {
   "cell_type": "markdown",
   "metadata": {},
   "source": [
    "## 4. Example OpenAI interface <a class=\"anchor\" id=\"fourth-section\"></a>\n",
    "This is still to do, another feature we are looking at is the logging feature which should be available for agent mode I think"
   ]
  },
  {
   "cell_type": "markdown",
   "metadata": {},
   "source": [
    "## 5. Shut down the simulator <a class=\"anchor\" id=\"fifth-section\"></a>"
   ]
  },
  {
   "cell_type": "code",
   "execution_count": 19,
   "metadata": {},
   "outputs": [
    {
     "name": "stdout",
     "output_type": "stream",
     "text": [
      "Stopping twitcher ... \n",
      "Stopping bluebird ... \n",
      "Stopping bluesky  ... \n",
      "\u001b[1BRemoving twitcher ... mdone\u001b[0m\u001b[2A\u001b[2K\u001b[1A\u001b[2K\n",
      "Removing bluebird ... \n",
      "Removing bluesky  ... \n",
      "\u001b[1BRemoving network guides_default\u001b[2A\u001b[2K\n"
     ]
    }
   ],
   "source": [
    "!docker-compose down"
   ]
  }
 ],
 "metadata": {
  "kernelspec": {
   "display_name": "Python 3",
   "language": "python",
   "name": "python3"
  },
  "language_info": {
   "codemirror_mode": {
    "name": "ipython",
    "version": 3
   },
   "file_extension": ".py",
   "mimetype": "text/x-python",
   "name": "python",
   "nbconvert_exporter": "python",
   "pygments_lexer": "ipython3",
   "version": "3.8.8"
  }
 },
 "nbformat": 4,
 "nbformat_minor": 4
}
